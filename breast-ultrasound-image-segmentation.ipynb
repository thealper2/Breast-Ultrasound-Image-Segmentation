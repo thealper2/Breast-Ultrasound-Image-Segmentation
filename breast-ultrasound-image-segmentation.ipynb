{
 "cells": [
  {
   "cell_type": "code",
   "execution_count": null,
   "metadata": {
    "_cell_guid": "b1076dfc-b9ad-4769-8c92-a6c4dae69d19",
    "_kg_hide-output": true,
    "_uuid": "8f2839f25d086af736a60e9eeb907d3b93b6e0e5"
   },
   "outputs": [],
   "source": [
    "# This Python 3 environment comes with many helpful analytics libraries installed\n",
    "# It is defined by the kaggle/python Docker image: https://github.com/kaggle/docker-python\n",
    "# For example, here's several helpful packages to load\n",
    "\n",
    "import numpy as np # linear algebra\n",
    "import pandas as pd # data processing, CSV file I/O (e.g. pd.read_csv)\n",
    "\n",
    "# Input data files are available in the read-only \"../input/\" directory\n",
    "# For example, running this (by clicking run or pressing Shift+Enter) will list all files under the input directory\n",
    "\n",
    "import os\n",
    "for dirname, _, filenames in os.walk('/kaggle/input'):\n",
    "    for filename in filenames:\n",
    "        print(os.path.join(dirname, filename))\n",
    "\n",
    "# You can write up to 20GB to the current directory (/kaggle/working/) that gets preserved as output when you create a version using \"Save & Run All\" \n",
    "# You can also write temporary files to /kaggle/temp/, but they won't be saved outside of the current session"
   ]
  },
  {
   "cell_type": "markdown",
   "metadata": {},
   "source": [
    "# Import Libraries"
   ]
  },
  {
   "cell_type": "code",
   "execution_count": null,
   "metadata": {},
   "outputs": [],
   "source": [
    "import os\n",
    "\n",
    "import numpy as np\n",
    "import pandas as pd\n",
    "\n",
    "import matplotlib.pyplot as plt\n",
    "from tqdm import tqdm\n",
    "from PIL import Image\n",
    "\n",
    "from sklearn.model_selection import train_test_split\n",
    "\n",
    "import tensorflow as tf\n",
    "from tensorflow.keras import models, layers\n",
    "from tensorflow.keras.utils import plot_model\n",
    "from tensorflow.keras.preprocessing.image import img_to_array, load_img"
   ]
  },
  {
   "cell_type": "markdown",
   "metadata": {},
   "source": [
    "# Load Data"
   ]
  },
  {
   "cell_type": "code",
   "execution_count": null,
   "metadata": {},
   "outputs": [],
   "source": [
    "root_dir = \"/kaggle/input/breast-ultrasound-images-dataset/Dataset_BUSI_with_GT\""
   ]
  },
  {
   "cell_type": "code",
   "execution_count": null,
   "metadata": {},
   "outputs": [],
   "source": [
    "folders = os.listdir(root_dir)\n",
    "folders"
   ]
  },
  {
   "cell_type": "code",
   "execution_count": null,
   "metadata": {},
   "outputs": [],
   "source": [
    "folders = [\"benign\", \"malignant\", \"normal\"]"
   ]
  },
  {
   "cell_type": "code",
   "execution_count": null,
   "metadata": {},
   "outputs": [],
   "source": [
    "image_paths, labels, mask_paths = [], [], []\n",
    "\n",
    "for folder in folders:\n",
    "    files = os.listdir(os.path.join(root_dir, folder))\n",
    "    for file in files:\n",
    "        if \"mask_\" in file:\n",
    "            continue\n",
    "        elif \"mask\" in file:\n",
    "            mask_paths.append(os.path.join(root_dir, folder, file))\n",
    "        else:\n",
    "            image_paths.append(os.path.join(root_dir, folder, file))\n",
    "            labels.append(folder)"
   ]
  },
  {
   "cell_type": "code",
   "execution_count": null,
   "metadata": {},
   "outputs": [],
   "source": [
    "df = pd.DataFrame({\n",
    "    \"image_path\": image_paths,\n",
    "    \"mask_path\": mask_paths,\n",
    "    \"label\": labels\n",
    "})"
   ]
  },
  {
   "cell_type": "code",
   "execution_count": null,
   "metadata": {},
   "outputs": [],
   "source": [
    "df.head()"
   ]
  },
  {
   "cell_type": "code",
   "execution_count": null,
   "metadata": {},
   "outputs": [],
   "source": [
    "df[\"label\"].value_counts()"
   ]
  },
  {
   "cell_type": "code",
   "execution_count": null,
   "metadata": {},
   "outputs": [],
   "source": [
    "def load_image(path):\n",
    "    img = load_img(path, target_size=(128, 128), color_mode='grayscale')\n",
    "    image_array = img_to_array(img)\n",
    "    image_array /= 255.\n",
    "    return image_array"
   ]
  },
  {
   "cell_type": "code",
   "execution_count": null,
   "metadata": {},
   "outputs": [],
   "source": [
    "images = []\n",
    "masks = []\n",
    "\n",
    "for image_path, mask_path in tqdm(zip(image_paths, mask_paths)):\n",
    "    image = load_image(image_path)\n",
    "    images.append(image)\n",
    "\n",
    "    mask = load_image(mask_path)\n",
    "    masks.append(mask)"
   ]
  },
  {
   "cell_type": "code",
   "execution_count": null,
   "metadata": {},
   "outputs": [],
   "source": [
    "images = np.array(images)\n",
    "masks = np.array(masks)"
   ]
  },
  {
   "cell_type": "markdown",
   "metadata": {},
   "source": [
    "# Visualization"
   ]
  },
  {
   "cell_type": "code",
   "execution_count": null,
   "metadata": {},
   "outputs": [],
   "source": [
    "def plot_image_and_mask(images, masks):\n",
    "    plt.figure(figsize=(20, 6))\n",
    "\n",
    "    for i in range(8):\n",
    "        idx = np.random.randint(len(images))\n",
    "        plt.subplot(3, 8, i + 1)\n",
    "        plt.imshow(images[idx], cmap=\"gray\")\n",
    "        plt.axis(\"off\")\n",
    "        plt.title(image_paths[idx].split(\"/\")[-1])\n",
    "\n",
    "        plt.subplot(3, 8, i + 9)\n",
    "        plt.imshow(masks[idx], cmap=\"gray\")\n",
    "        plt.axis(\"off\")\n",
    "        plt.title(\"Mask\")\n",
    "\n",
    "    plt.show()"
   ]
  },
  {
   "cell_type": "code",
   "execution_count": null,
   "metadata": {},
   "outputs": [],
   "source": [
    "plot_image_and_mask(images, masks)"
   ]
  },
  {
   "cell_type": "markdown",
   "metadata": {},
   "source": [
    "# Model"
   ]
  },
  {
   "cell_type": "code",
   "execution_count": null,
   "metadata": {},
   "outputs": [],
   "source": [
    "# Drop \"normal\"\n",
    "images = images[:-133]\n",
    "masks = masks[:-133]"
   ]
  },
  {
   "cell_type": "code",
   "execution_count": null,
   "metadata": {},
   "outputs": [],
   "source": [
    "X_train, X_test, y_train, y_test = train_test_split(images, masks, test_size=0.1, random_state=42)"
   ]
  },
  {
   "cell_type": "code",
   "execution_count": null,
   "metadata": {},
   "outputs": [],
   "source": [
    "def conv_block(input_layer, num_filters, drop_rate):\n",
    "    conv = layers.Conv2D(num_filters, (3, 3), activation=\"elu\", padding=\"same\", kernel_initializer=\"he_normal\")(input_layer)\n",
    "    conv = layers.Dropout((drop_rate))(conv)\n",
    "    conv = layers.Conv2D(num_filters, (3, 3), activation=\"elu\", padding=\"same\", kernel_initializer=\"he_normal\")(conv)\n",
    "    return conv"
   ]
  },
  {
   "cell_type": "code",
   "execution_count": null,
   "metadata": {},
   "outputs": [],
   "source": [
    "def encoder_block(input_layer, num_filters, drop_rate):\n",
    "    conv = conv_block(input_layer, num_filters, drop_rate)\n",
    "    maxp = layers.MaxPooling2D((2, 2))(conv)\n",
    "    return conv, maxp"
   ]
  },
  {
   "cell_type": "code",
   "execution_count": null,
   "metadata": {},
   "outputs": [],
   "source": [
    "def decoder_block(input_layer, skip_features, drop_rate, num_filters):\n",
    "    convt = layers.Conv2DTranspose(num_filters, (2, 2), strides=2, padding=\"same\")(input_layer)\n",
    "    cnt = layers.concatenate([convt, skip_features])\n",
    "    conv = conv_block(cnt, num_filters, drop_rate)\n",
    "    return conv"
   ]
  },
  {
   "cell_type": "code",
   "execution_count": null,
   "metadata": {},
   "outputs": [],
   "source": [
    "input_layer = layers.Input(shape=(128, 128, 1))\n",
    "\n",
    "s1, p1 = encoder_block(input_layer, 32, 0.1)\n",
    "s2, p2 = encoder_block(p1, 64, 0.1)\n",
    "s3, p3 = encoder_block(p2, 128, 0.2)\n",
    "s4, p4 = encoder_block(p3, 256, 0.2)\n",
    "s5, p5 = encoder_block(p4, 512, 0.3)\n",
    "\n",
    "bottle = conv_block(p5, 1024, 0.3)\n",
    "\n",
    "d1 = decoder_block(bottle, s5, 0.3, 512)\n",
    "d2 = decoder_block(d1, s4, 0.2, 256)\n",
    "d3 = decoder_block(d2, s3, 0.2, 128)\n",
    "d4 = decoder_block(d3, s2, 0.1, 64)\n",
    "d5 = decoder_block(d4, s1, 0.1, 32)\n",
    "\n",
    "output_layer = layers.Conv2D(1, 1, padding=\"same\", activation=\"sigmoid\")(d5)\n",
    "\n",
    "model = models.Model(input_layer, output_layer)"
   ]
  },
  {
   "cell_type": "code",
   "execution_count": null,
   "metadata": {},
   "outputs": [],
   "source": [
    "model.compile(loss=\"binary_crossentropy\",\n",
    "              optimizer=\"adam\",\n",
    "              metrics=[\"accuracy\"])"
   ]
  },
  {
   "cell_type": "code",
   "execution_count": null,
   "metadata": {},
   "outputs": [],
   "source": [
    "plot_model(model)"
   ]
  },
  {
   "cell_type": "code",
   "execution_count": null,
   "metadata": {},
   "outputs": [],
   "source": [
    "history = model.fit(X_train, y_train, validation_data=(X_test, y_test), epochs=50)"
   ]
  },
  {
   "cell_type": "markdown",
   "metadata": {},
   "source": [
    "# Results"
   ]
  },
  {
   "cell_type": "code",
   "execution_count": null,
   "metadata": {},
   "outputs": [],
   "source": [
    "history_df = pd.DataFrame(history.history)\n",
    "history_df.head()"
   ]
  },
  {
   "cell_type": "code",
   "execution_count": null,
   "metadata": {},
   "outputs": [],
   "source": [
    "plt.figure()\n",
    "plt.plot(history.history[\"loss\"])\n",
    "plt.plot(history.history[\"val_loss\"])\n",
    "plt.xlabel(\"Epoch\")\n",
    "plt.ylabel(\"Loss\")\n",
    "plt.legend([\"train\", \"valid\"])\n",
    "plt.show()"
   ]
  },
  {
   "cell_type": "code",
   "execution_count": null,
   "metadata": {},
   "outputs": [],
   "source": [
    "plt.figure()\n",
    "plt.plot(history.history[\"accuracy\"])\n",
    "plt.plot(history.history[\"val_accuracy\"])\n",
    "plt.xlabel(\"Epoch\")\n",
    "plt.ylabel(\"Accuracy\")\n",
    "plt.legend([\"train\", \"valid\"])\n",
    "plt.show()"
   ]
  },
  {
   "cell_type": "markdown",
   "metadata": {},
   "source": [
    "# Test"
   ]
  },
  {
   "cell_type": "code",
   "execution_count": null,
   "metadata": {},
   "outputs": [],
   "source": [
    "preds = model.predict(X_test)"
   ]
  },
  {
   "cell_type": "code",
   "execution_count": null,
   "metadata": {},
   "outputs": [],
   "source": [
    "def plot_predictions(preds):\n",
    "    plt.figure(figsize=(20, 6))\n",
    "\n",
    "    for i in range(8):\n",
    "        idx = np.random.randint(len(preds))\n",
    "        plt.subplot(3, 8, i + 1)\n",
    "        plt.imshow(X_test[idx], cmap=\"gray\")\n",
    "        plt.axis(\"off\")\n",
    "        plt.title(\"Image\")\n",
    "\n",
    "        plt.subplot(3, 8, i + 9)\n",
    "        plt.imshow(y_test[idx], cmap=\"gray\")\n",
    "        plt.axis(\"off\")\n",
    "        plt.title(\"Original Mask\")\n",
    "\n",
    "        plt.subplot(3, 8, i + 17)\n",
    "        plt.imshow(preds[idx], cmap=\"gray\")\n",
    "        plt.axis(\"off\")\n",
    "        plt.title(\"Predicted Mask\")\n",
    "\n",
    "    plt.show()"
   ]
  },
  {
   "cell_type": "code",
   "execution_count": null,
   "metadata": {},
   "outputs": [],
   "source": [
    "plot_predictions(preds)"
   ]
  },
  {
   "cell_type": "code",
   "execution_count": null,
   "metadata": {},
   "outputs": [],
   "source": []
  }
 ],
 "metadata": {
  "kaggle": {
   "accelerator": "nvidiaTeslaT4",
   "dataSources": [
    {
     "datasetId": 1209633,
     "sourceId": 2021025,
     "sourceType": "datasetVersion"
    }
   ],
   "dockerImageVersionId": 30699,
   "isGpuEnabled": true,
   "isInternetEnabled": true,
   "language": "python",
   "sourceType": "notebook"
  },
  "kernelspec": {
   "display_name": "Python 3 (ipykernel)",
   "language": "python",
   "name": "python3"
  },
  "language_info": {
   "codemirror_mode": {
    "name": "ipython",
    "version": 3
   },
   "file_extension": ".py",
   "mimetype": "text/x-python",
   "name": "python",
   "nbconvert_exporter": "python",
   "pygments_lexer": "ipython3",
   "version": "3.10.12"
  }
 },
 "nbformat": 4,
 "nbformat_minor": 4
}
